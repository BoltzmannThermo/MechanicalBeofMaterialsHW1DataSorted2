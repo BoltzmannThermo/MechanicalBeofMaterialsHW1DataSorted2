{
 "cells": [
  {
   "cell_type": "code",
   "execution_count": 1,
   "metadata": {},
   "outputs": [],
   "source": [
    "import pandas as pd\n",
    "import csv\n",
    "import matplotlib.pyplot as plt\n",
    "pd.set_option(\"display.max_rows\", 1000)    #設定最大能顯示1000rows"
   ]
  },
  {
   "cell_type": "code",
   "execution_count": 2,
   "metadata": {},
   "outputs": [
    {
     "data": {
      "text/html": [
       "<div>\n",
       "<style scoped>\n",
       "    .dataframe tbody tr th:only-of-type {\n",
       "        vertical-align: middle;\n",
       "    }\n",
       "\n",
       "    .dataframe tbody tr th {\n",
       "        vertical-align: top;\n",
       "    }\n",
       "\n",
       "    .dataframe thead th {\n",
       "        text-align: right;\n",
       "    }\n",
       "</style>\n",
       "<table border=\"1\" class=\"dataframe\">\n",
       "  <thead>\n",
       "    <tr style=\"text-align: right;\">\n",
       "      <th></th>\n",
       "      <th>EngStrain</th>\n",
       "      <th>EngStress</th>\n",
       "      <th>TrueStrain</th>\n",
       "      <th>TrueStress</th>\n",
       "    </tr>\n",
       "  </thead>\n",
       "  <tbody>\n",
       "    <tr>\n",
       "      <th>0</th>\n",
       "      <td>0.000000</td>\n",
       "      <td>0.000000</td>\n",
       "      <td>0.000000</td>\n",
       "      <td>0.000000</td>\n",
       "    </tr>\n",
       "    <tr>\n",
       "      <th>1</th>\n",
       "      <td>0.000738</td>\n",
       "      <td>1.066686</td>\n",
       "      <td>0.000738</td>\n",
       "      <td>1.067473</td>\n",
       "    </tr>\n",
       "    <tr>\n",
       "      <th>2</th>\n",
       "      <td>0.001476</td>\n",
       "      <td>2.216083</td>\n",
       "      <td>0.001475</td>\n",
       "      <td>2.219354</td>\n",
       "    </tr>\n",
       "    <tr>\n",
       "      <th>3</th>\n",
       "      <td>0.002214</td>\n",
       "      <td>3.445544</td>\n",
       "      <td>0.002212</td>\n",
       "      <td>3.453174</td>\n",
       "    </tr>\n",
       "    <tr>\n",
       "      <th>4</th>\n",
       "      <td>0.002952</td>\n",
       "      <td>4.753144</td>\n",
       "      <td>0.002948</td>\n",
       "      <td>4.767175</td>\n",
       "    </tr>\n",
       "    <tr>\n",
       "      <th>5</th>\n",
       "      <td>0.003690</td>\n",
       "      <td>6.136986</td>\n",
       "      <td>0.003684</td>\n",
       "      <td>6.159634</td>\n",
       "    </tr>\n",
       "    <tr>\n",
       "      <th>6</th>\n",
       "      <td>0.004428</td>\n",
       "      <td>7.595201</td>\n",
       "      <td>0.004418</td>\n",
       "      <td>7.628832</td>\n",
       "    </tr>\n",
       "    <tr>\n",
       "      <th>7</th>\n",
       "      <td>0.005166</td>\n",
       "      <td>9.125945</td>\n",
       "      <td>0.005153</td>\n",
       "      <td>9.173093</td>\n",
       "    </tr>\n",
       "    <tr>\n",
       "      <th>8</th>\n",
       "      <td>0.005905</td>\n",
       "      <td>10.727403</td>\n",
       "      <td>0.005887</td>\n",
       "      <td>10.790746</td>\n",
       "    </tr>\n",
       "    <tr>\n",
       "      <th>9</th>\n",
       "      <td>0.006642</td>\n",
       "      <td>12.397784</td>\n",
       "      <td>0.006620</td>\n",
       "      <td>12.480135</td>\n",
       "    </tr>\n",
       "  </tbody>\n",
       "</table>\n",
       "</div>"
      ],
      "text/plain": [
       "   EngStrain  EngStress  TrueStrain  TrueStress\n",
       "0   0.000000   0.000000    0.000000    0.000000\n",
       "1   0.000738   1.066686    0.000738    1.067473\n",
       "2   0.001476   2.216083    0.001475    2.219354\n",
       "3   0.002214   3.445544    0.002212    3.453174\n",
       "4   0.002952   4.753144    0.002948    4.767175\n",
       "5   0.003690   6.136986    0.003684    6.159634\n",
       "6   0.004428   7.595201    0.004418    7.628832\n",
       "7   0.005166   9.125945    0.005153    9.173093\n",
       "8   0.005905  10.727403    0.005887   10.790746\n",
       "9   0.006642  12.397784    0.006620   12.480135"
      ]
     },
     "execution_count": 2,
     "metadata": {},
     "output_type": "execute_result"
    }
   ],
   "source": [
    "df = pd.read_csv(\"D:\\BrianWorksEfficiently\\MechanicalBeofMaterialsHW1DataSorted.csv\")\n",
    "df.head(10)"
   ]
  },
  {
   "cell_type": "code",
   "execution_count": 16,
   "metadata": {},
   "outputs": [
    {
     "data": {
      "text/plain": [
       "<matplotlib.axes._subplots.AxesSubplot at 0x1bee2cba6d0>"
      ]
     },
     "execution_count": 16,
     "metadata": {},
     "output_type": "execute_result"
    },
    {
     "data": {
      "image/png": "[encoded data removed]",
      "text/plain": [
       "<Figure size 432x288 with 1 Axes>"
      ]
     },
     "metadata": {
      "needs_background": "light"
     },
     "output_type": "display_data"
    }
   ],
   "source": [
    "#進行繪圖 EngStress-Strain\n",
    "df.plot(x='EngStrain', y=['EngStress'],color='orange')\n"
   ]
  },
  {
   "cell_type": "code",
   "execution_count": 21,
   "metadata": {},
   "outputs": [
    {
     "data": {
      "text/plain": [
       "<matplotlib.axes._subplots.AxesSubplot at 0x1bee2f0ff40>"
      ]
     },
     "execution_count": 21,
     "metadata": {},
     "output_type": "execute_result"
    },
    {
     "data": {
      "image/png": "[encoded data removed]",
      "text/plain": [
       "<Figure size 432x288 with 1 Axes>"
      ]
     },
     "metadata": {
      "needs_background": "light"
     },
     "output_type": "display_data"
    }
   ],
   "source": [
    "#進行繪圖 TrueStress-Strain\n",
    "df.plot(x='TrueStrain', y=['TrueStress'],color='blue')"
   ]
  },
  {
   "cell_type": "code",
   "execution_count": 24,
   "metadata": {},
   "outputs": [
    {
     "data": {
      "text/plain": [
       "<matplotlib.legend.Legend at 0x1bee30c4370>"
      ]
     },
     "execution_count": 24,
     "metadata": {},
     "output_type": "execute_result"
    },
    {
     "data": {
      "image/png": "[encoded data removed]",
      "text/plain": [
       "<Figure size 600x450 with 1 Axes>"
      ]
     },
     "metadata": {
      "needs_background": "light"
     },
     "output_type": "display_data"
    }
   ],
   "source": [
    "plt.figure(figsize = (6, 4.5), dpi = 100)                 # 設定圖片尺寸\n",
    "plt.xlabel('r (m)', fontsize = 16)                        # 設定坐標軸標籤\n",
    "plt.xticks(fontsize = 12)                                 # 設定坐標軸數字格式\n",
    "plt.yticks(fontsize = 12)\n",
    "plt.grid(color = 'red', linestyle = '--', linewidth = 1)  # 設定格線顏色、種類、寬度\n",
    "plt.ylim(0, 800) \n",
    "# 繪圖並設定線條顏色、寬度、圖例\n",
    "line1, = plt.plot('EngStrain', ['EngStress'], color = 'red', linewidth = 3, label = 'Electric Force (N)')             \n",
    "line2, = plt.plot('TrueStrain', ['TrueStress'], color = 'blue', linewidth = 3, label = 'Electric Potential Energy (J)')\n",
    "plt.legend(handles = [line1, line2], loc='upper right')# 設定y軸繪圖範圍"
   ]
  },
  {
   "cell_type": "code",
   "execution_count": null,
   "metadata": {},
   "outputs": [],
   "source": []
  }
 ],
 "metadata": {
  "kernelspec": {
   "display_name": "Python 3",
   "language": "python",
   "name": "python3"
  },
  "language_info": {
   "codemirror_mode": {
    "name": "ipython",
    "version": 3
   },
   "file_extension": ".py",
   "mimetype": "text/x-python",
   "name": "python",
   "nbconvert_exporter": "python",
   "pygments_lexer": "ipython3",
   "version": "3.8.3"
  }
 },
 "nbformat": 4,
 "nbformat_minor": 4
}
